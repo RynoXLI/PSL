{
 "cells": [
  {
   "cell_type": "markdown",
   "metadata": {},
   "source": [
    "# Coding Assignment 4\n",
    "\n",
    "CS 598 Practical Statistical Learning\n",
    "\n",
    "2023-11-06\n",
    "\n",
    "UIUC Fall 2023\n",
    "\n",
    "**Authors**\n",
    "* Ryan Fogle\n",
    "    - rsfogle2@illinois.edu\n",
    "    - UIN: 652628818\n",
    "* Sean Enright\n",
    "    - seanre2@illinois.edu\n",
    "    - UIN: 661791377\n",
    "\n",
    "**Contributions**\n",
    "\n",
    "\n",
    "## Part 1: Gaussian Mixtures"
   ]
  },
  {
   "cell_type": "code",
   "execution_count": null,
   "metadata": {},
   "outputs": [],
   "source": [
    "import numpy as np\n",
    "import pandas as pd\n",
    "\n",
    "# Set random seed to the last four digits of our UINs\n",
    "np.random.seed(8818 + 1377 + 1)"
   ]
  },
  {
   "cell_type": "markdown",
   "metadata": {},
   "source": [
    "### Define Functions"
   ]
  },
  {
   "cell_type": "code",
   "execution_count": null,
   "metadata": {},
   "outputs": [],
   "source": [
    "def Estep(X, Sigma, Mu, P):\n",
    "    \"\"\"Estimate step\n",
    "\n",
    "    Args:\n",
    "        X (np.ndarray): Data matrix of (n, p) shape\n",
    "        Sigma (np.ndarray): (G,p) array of variances\n",
    "        Mu (np.ndarray): A (G, p, 1) matrix of means\n",
    "        P (np.ndarray): A (G,) array of mixing weights\n",
    "    \"\"\"\n",
    "    E = np.zeros((X.shape[0], P.shape[0]))\n",
    "    \n",
    "    for i, (mu, p, variance) in enumerate(zip(Mu, P, Sigma)):\n",
    "        A_mu = X.T - mu\n",
    "        ll = ( (np.diag( 1 / np.sqrt(variance)) @ A_mu ) * A_mu).sum(axis=0)\n",
    "        ll = np.exp(-ll/2) / np.sqrt(np.power(2 * np.pi, variance.shape[0]) * variance.prod())\n",
    "        ll = ll * p\n",
    "        # ll is a (n,) array\n",
    "        E[:, i] = ll\n",
    "    return E\n"
   ]
  },
  {
   "cell_type": "code",
   "execution_count": null,
   "metadata": {},
   "outputs": [],
   "source": [
    "def Mstep(data, E, Mu):\n",
    "    \"\"\"_summary_\n",
    "\n",
    "    Args:\n",
    "        data (np.ndarray): n x p matrix of data\n",
    "        E (np.ndarray): conditional probability matrix (n by G)\n",
    "    \"\"\"\n",
    "    N = E.sum(axis=0)\n",
    "    P = N / E.shape[1]\n",
    "    variance = np.zeros((E.shape[1], data.shape[1]))\n",
    "    Mu = np.zeros((E.shape[1], data.shape[1], 1))\n",
    "    \n",
    "    for i, (e, mu) in enumerate(zip(E, Mu)):\n",
    "        Mu[i,] = ((data * e).sum(axis=0) / N[i]).reshape(-1, 1)\n",
    "        variance[i] = (e * (data - mu.T)**2).sum(axis=0) / N[i]\n",
    "    return Mu, variance, P\n"
   ]
  },
  {
   "cell_type": "code",
   "execution_count": null,
   "metadata": {},
   "outputs": [],
   "source": [
    "def loglik():\n",
    "    pass"
   ]
  },
  {
   "cell_type": "code",
   "execution_count": null,
   "metadata": {},
   "outputs": [],
   "source": [
    "def myEM(data, G: int, itmax: int):\n",
    "    \"\"\"Main EM algorithm\n",
    "\n",
    "    Args:\n",
    "        data (np.ndarray): data\n",
    "        G (int): number of components\n",
    "        itmax (int): number of iterations\n",
    "    \"\"\"\n",
    "    "
   ]
  },
  {
   "cell_type": "markdown",
   "metadata": {},
   "source": [
    "### Testing"
   ]
  },
  {
   "cell_type": "code",
   "execution_count": null,
   "metadata": {},
   "outputs": [],
   "source": [
    "data = pd.read_csv('faithful.dat', header=0, sep='\\s+')\n",
    "data.head()"
   ]
  },
  {
   "cell_type": "markdown",
   "metadata": {},
   "source": [
    "#### Case 1: G=2"
   ]
  },
  {
   "cell_type": "code",
   "execution_count": null,
   "metadata": {},
   "outputs": [],
   "source": [
    "n = data.shape[0]\n",
    "p1 = 10 / n\n",
    "p2 = 1 - p1\n",
    "mu1 = data.iloc[:10, :].values.mean(axis=0).reshape(-1, 1)\n",
    "mu2 = data.iloc[10: :].values.mean(axis=0).reshape(-1, 1)\n",
    "variance = (((data.iloc[:10].values - mu1.T)**2).sum(axis=0) + ((data.iloc[:10].values - mu2.T)**2).sum(axis=0)) / n\n",
    "\n",
    "P = np.array([p1, p2]) # p (# of features) by 1 matrix\n",
    "mu = np.array([mu1, mu2]) # p (# of features) by G matrix\n",
    "Sigma = np.array([variance, variance])"
   ]
  },
  {
   "cell_type": "markdown",
   "metadata": {},
   "source": [
    "#### Case 2: G=3"
   ]
  },
  {
   "cell_type": "code",
   "execution_count": null,
   "metadata": {},
   "outputs": [],
   "source": [
    "p1 = 10 / n\n",
    "p2 = 20 / n\n",
    "p3 = 1 - p1 - p2\n",
    "mu1 = data.iloc[:10, :].values.mean(axis=0)\n",
    "mu2 = data.iloc[10:30, :].values.mean(axis=0)\n",
    "mu3 = data.iloc[30:, :].values.mean(axis=0)\n",
    "variance = (((data.iloc[:10].values - mu1)**2).sum(axis=0) + ((data.iloc[10:30].values - mu2)**2).sum(axis=0) + ((data.iloc[30:].values - mu3)**2).sum(axis=0)) / n\n",
    "\n",
    "P = np.array([p1, p2, p3])\n",
    "mu = np.array([mu1, mu2, mu3])\n",
    "Sigma = np.array([variance, variance, variance])"
   ]
  },
  {
   "cell_type": "code",
   "execution_count": null,
   "metadata": {},
   "outputs": [],
   "source": []
  }
 ],
 "metadata": {
  "kernelspec": {
   "display_name": "py311",
   "language": "python",
   "name": "python3"
  },
  "language_info": {
   "codemirror_mode": {
    "name": "ipython",
    "version": 3
   },
   "file_extension": ".py",
   "mimetype": "text/x-python",
   "name": "python",
   "nbconvert_exporter": "python",
   "pygments_lexer": "ipython3",
   "version": "3.11.2"
  }
 },
 "nbformat": 4,
 "nbformat_minor": 2
}
