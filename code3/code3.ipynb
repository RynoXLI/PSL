{
 "cells": [
  {
   "cell_type": "markdown",
   "metadata": {},
   "source": [
    "# Coding Assignment 3\n",
    "\n",
    "CS 598 Practical Statistical Learning\n",
    "\n",
    "2023-10-09\n",
    "\n",
    "UIUC Fall 2023\n",
    "\n",
    "**Authors**\n",
    "* Ryan Fogle\n",
    "    - rsfogle2@illinois.edu\n",
    "    - UIN: 652628818\n",
    "* Sean Enright\n",
    "    - seanre2@illinois.edu\n",
    "    - UIN: 661791377\n",
    "\n",
    "**Contributions**\n",
    "\n",
    "TODO"
   ]
  },
  {
   "cell_type": "markdown",
   "metadata": {},
   "source": [
    "## Part I\n",
    "\n",
    "Here we implement LOO-CV and GCV to select the optimal span for LOESS."
   ]
  },
  {
   "cell_type": "code",
   "execution_count": null,
   "metadata": {},
   "outputs": [],
   "source": [
    "# General imports\n",
    "import matplotlib as mpl\n",
    "import matplotlib.pyplot as plt\n",
    "import numpy as np\n",
    "import pandas as pd\n",
    "import seaborn as sns"
   ]
  },
  {
   "cell_type": "code",
   "execution_count": null,
   "metadata": {},
   "outputs": [],
   "source": [
    "# Part 1 imports\n",
    "from csaps import csaps\n",
    "from skmisc.loess import loess"
   ]
  },
  {
   "cell_type": "code",
   "execution_count": null,
   "metadata": {},
   "outputs": [],
   "source": [
    "# Manual calculation of smoothing matrix\n",
    "def smooth(x, y, fx, lam, axis=-1):\n",
    "    \"\"\"Fits a cubic spline to a given set of points, parameterized by lambda.\n",
    "\n",
    "    Args:\n",
    "        x (np.ndarray): Observations vector\n",
    "        y (np.ndarray): Response vector\n",
    "        fx (np.ndarray): Data sites for output smoothed data\n",
    "        lam (float): Smoothing parameter (lambda)\n",
    "        axis (np.ndarray): Axis along which y data varies\n",
    "\n",
    "    Returns:\n",
    "        (np.ndarray): Smoothed y data\n",
    "    \"\"\"\n",
    "    p = 1 / (lam + 1) # CSAPS parameterizes by p, rather than R's lambda\n",
    "    return csaps(x, y, fx, smooth=p, axis=axis)\n",
    "\n",
    "def S_lam(x, lam):\n",
    "    \"\"\"Calculate the smoothing spline matrix for a vector observations and lambda value.\n",
    "\n",
    "    Args:\n",
    "        x (np.ndarray): Vector of observations\n",
    "        lam (float): Smoothing parameter\n",
    "\n",
    "    Returns:\n",
    "        (np.ndarray): n x n smoothing matrix\n",
    "    \"\"\"\n",
    "    n = len(x)\n",
    "    Y = np.identity(n)\n",
    "    A = smooth(x, Y, x, lam, axis=0)\n",
    "    return (A + A.T) / 2\n",
    "\n",
    "def lo_lev(x, sp):\n",
    "    # Calculate diagonal entries of S, the smoothing matrix\n",
    "    pass"
   ]
  },
  {
   "cell_type": "code",
   "execution_count": null,
   "metadata": {},
   "outputs": [],
   "source": [
    "def onestep_cv(x, y, sp):\n",
    "    # 1) Fit a LOESS model y - x with span and extract the\n",
    "    #    corresponding residual vector\n",
    "    loess_fit = loess(x, y, span=sp)\n",
    "    y_hat = loess_fit.predict(x).values\n",
    "    # 2) Call lo_lev to obtain the diagonal entries of S\n",
    "    s_ii = loess_fit.outputs.diagonal\n",
    "    #s_ii = lo_lev(x, sp)\n",
    "    # 3) Compute LOO-CV and GCV\n",
    "    # LOOCV\n",
    "    loocv = np.mean(np.power((y - y_hat) / (1 - s_ii), 2))\n",
    "    # GCV\n",
    "    m = np.mean(s_ii)\n",
    "    gcv = np.mean(np.power((y - y_hat) / (1 - m), 2))\n",
    "    return loocv, gcv\n",
    "\n",
    "def find_cv_vals(x, y, span):\n",
    "    m = len(span)\n",
    "    cv = np.zeros(m)\n",
    "    gcv = np.zeros(m)\n",
    "\n",
    "    for i in range(m):\n",
    "        cv_i, gcv_i = onestep_cv(x, y, span[i])\n",
    "        cv[i] = cv_i\n",
    "        gcv[i] = gcv_i\n",
    "    return cv, gcv"
   ]
  },
  {
   "cell_type": "markdown",
   "metadata": {},
   "source": [
    "Determining span values that produce the lowest LOOCV and GCV error."
   ]
  },
  {
   "cell_type": "code",
   "execution_count": null,
   "metadata": {},
   "outputs": [],
   "source": [
    "# https://liangfgithub.github.io/Data/Coding3_Data.csv\n",
    "data_part1 = pd.read_csv(\"Coding3_Data.csv\")\n",
    "span_vec = np.linspace(0.2, 0.9, 15)\n",
    "\n",
    "# Find optimal span by LOOCV and GCV\n",
    "loo, gcv = find_cv_vals(data_part1[\"x\"], data_part1[\"y\"], span_vec)\n",
    "\n",
    "# Display table of CV results\n",
    "print(\"Span    LOOCV   GCV\")\n",
    "for s, l, g in zip(span_vec, loo, gcv):\n",
    "    print(f\"{s:.2f}\\t{l:.3f}\\t{g:.3f}\")"
   ]
  },
  {
   "cell_type": "markdown",
   "metadata": {},
   "source": [
    "The span optimization results are presented in the chart below."
   ]
  },
  {
   "cell_type": "code",
   "execution_count": null,
   "metadata": {},
   "outputs": [],
   "source": [
    "sns.set()\n",
    "mpl.rcParams['figure.dpi'] = 300\n",
    "plt.scatter(span_vec, loo, color=\"darkorange\", s=5, label=\"LOO-CV\")\n",
    "plt.plot(span_vec, loo, color=\"orange\", alpha=1, linestyle=\"dotted\")\n",
    "plt.scatter(span_vec, gcv, color=\"blue\", s=5, label=\"GCV\")\n",
    "plt.plot(span_vec, gcv, color=\"lightblue\", alpha=0.75, linestyle=\"--\")\n",
    "plt.xlabel(\"Span\")\n",
    "plt.ylabel(\"CV Error\")\n",
    "plt.title(\"Span vs CV Error\")\n",
    "plt.legend()"
   ]
  },
  {
   "cell_type": "markdown",
   "metadata": {},
   "source": [
    "For this dataset and choice of span values, the best span value selected by LOOCV and GCV is the same."
   ]
  },
  {
   "cell_type": "code",
   "execution_count": null,
   "metadata": {},
   "outputs": [],
   "source": [
    "# Select lowest span value\n",
    "span_loocv = span_vec[np.argmin(loo)]\n",
    "span_gcv = span_vec[np.argmin(gcv)]\n",
    "\n",
    "print(f\"Span by LOO-CV: {span_loocv}\")\n",
    "print(f\"   Span by GCV: {span_gcv}\")"
   ]
  },
  {
   "cell_type": "markdown",
   "metadata": {},
   "source": [
    "The true curve is defined below."
   ]
  },
  {
   "cell_type": "code",
   "execution_count": null,
   "metadata": {},
   "outputs": [],
   "source": [
    "def f(x):\n",
    "    return np.sin(12 * (x + 0.2)) / (x + 0.2)\n",
    "\n",
    "fx = np.linspace(min(data_part1[\"x\"]), max(data_part1[\"x\"]), 1001)\n",
    "fy = f(fx)"
   ]
  },
  {
   "cell_type": "markdown",
   "metadata": {},
   "source": [
    "Finally, we compare the LOESS curve with LOO-CV and GCV optimized span to the true curve."
   ]
  },
  {
   "cell_type": "code",
   "execution_count": null,
   "metadata": {},
   "outputs": [],
   "source": [
    "y_loess = loess(data_part1[\"x\"], data_part1[\"y\"], span=span_loocv).predict(fx).values\n",
    "\n",
    "sns.set()\n",
    "mpl.rcParams['figure.dpi'] = 300\n",
    "plt.scatter(data_part1[\"x\"], data_part1[\"y\"], color=\"red\", s=6)\n",
    "plt.plot(fx, fy, color=\"gray\", linewidth=1, label=\"True Function\")\n",
    "plt.plot(fx, y_loess, color=\"blue\", linewidth=1, linestyle=\"--\", label=\"LOESS Fit\")\n",
    "plt.legend()\n",
    "plt.xlabel(\"X\")\n",
    "plt.ylabel(\"Y\")"
   ]
  },
  {
   "cell_type": "markdown",
   "metadata": {},
   "source": [
    "## Part II\n",
    "\n"
   ]
  },
  {
   "cell_type": "markdown",
   "metadata": {},
   "source": [
    "In this part we use the Sales_Transactions_Dataset_Weekly dataset from the UCI Machine Learning Repository."
   ]
  },
  {
   "cell_type": "code",
   "execution_count": null,
   "metadata": {},
   "outputs": [],
   "source": [
    "# https://archive.ics.uci.edu/dataset/396/sales+transactions+dataset+weekly\n",
    "data_part2 = pd.read_csv(\"Sales_Transactions_Dataset_Weekly.csv\",\n",
    "                         index_col=0, usecols=range(53))\n",
    "# Normalize each time series, i.e., normalize each row by its mean\n",
    "data_part2 = data_part2.sub(data_part2.mean(axis=1), axis=0)\n",
    "data_part2.shape"
   ]
  }
 ],
 "metadata": {
  "kernelspec": {
   "display_name": "Python 3",
   "language": "python",
   "name": "python3"
  },
  "language_info": {
   "codemirror_mode": {
    "name": "ipython",
    "version": 3
   },
   "file_extension": ".py",
   "mimetype": "text/x-python",
   "name": "python",
   "nbconvert_exporter": "python",
   "pygments_lexer": "ipython3",
   "version": "3.10.2"
  },
  "orig_nbformat": 4
 },
 "nbformat": 4,
 "nbformat_minor": 2
}
