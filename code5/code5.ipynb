{
 "cells": [
  {
   "cell_type": "markdown",
   "metadata": {},
   "source": [
    "# Coding Assignment 5\n",
    "\n",
    "CS 598 Practical Statistical Learning\n",
    "\n",
    "2023-11-27\n",
    "\n",
    "UIUC Fall 2023\n",
    "\n",
    "**Authors**\n",
    "* Ryan Fogle\n",
    "    - rsfogle2@illinois.edu\n",
    "    - UIN: 652628818\n",
    "* Sean Enright\n",
    "    - seanre2@illinois.edu\n",
    "    - UIN: 661791377\n",
    "\n",
    "**Contributions**"
   ]
  },
  {
   "cell_type": "code",
   "execution_count": null,
   "metadata": {},
   "outputs": [],
   "source": [
    "import numpy as np\n",
    "import pandas as pd\n",
    "from sklearn.metrics import confusion_matrix, accuracy_score, ConfusionMatrixDisplay\n",
    "import matplotlib.pyplot as plt"
   ]
  },
  {
   "cell_type": "code",
   "execution_count": null,
   "metadata": {},
   "outputs": [],
   "source": [
    "# set random seed\n",
    "np.random.seed(3434)\n",
    "\n",
    "# Read in data\n",
    "train = pd.read_csv('coding5_train.csv')\n",
    "test = pd.read_csv('coding5_test.csv')\n",
    "\n",
    "# Create Data matrixes\n",
    "X_train = train[train.columns[:-1]].copy().values\n",
    "Y_train = train['Y'].copy().values\n",
    "X_test = test[test.columns[:-1]].copy().values\n",
    "Y_test = test['Y'].copy().values"
   ]
  },
  {
   "cell_type": "code",
   "execution_count": null,
   "metadata": {},
   "outputs": [],
   "source": [
    "# Set one class to be -1, the other to 1\n",
    "# in this case when Y == 5, we set it to -1\n",
    "# when Y == 6, we set it to 1. \n",
    "y_train = np.ones(Y_train.shape[0])\n",
    "y_train[Y_train == Y_train.min()] = -1\n",
    "\n",
    "y_test = np.ones(Y_test.shape[0])\n",
    "y_test[Y_test == Y_test.min()] = -1"
   ]
  },
  {
   "cell_type": "code",
   "execution_count": null,
   "metadata": {},
   "outputs": [],
   "source": [
    "def pegasos(X, Y, epochs=20, lam=1):\n",
    "    # shuffle data\n",
    "    inds = np.arange(X.shape[0])\n",
    "    np.random.shuffle(inds)\n",
    "    X = X[inds]\n",
    "    Y = Y[inds]\n",
    "\n",
    "    # intialize parameters\n",
    "    N = X.shape[0]\n",
    "    p = X.shape[1]\n",
    "    t = 0\n",
    "    alpha = 0\n",
    "    beta = np.zeros(p).reshape(-1, 1)\n",
    "    \n",
    "    # loop through each epoch\n",
    "    for epoch in range(epochs):\n",
    "\n",
    "        # loop through each data point\n",
    "        for i in range(N):\n",
    "            t = t + 1\n",
    "            nt = 1 / (t * lam)\n",
    "            if Y[i] * (np.dot(X[i], beta) + alpha) < 1:\n",
    "                big_delta = lam * beta - (Y[i]*X[i]).reshape(-1,1)\n",
    "                little_delta = -Y[i]\n",
    "            else:\n",
    "                big_delta = lam * beta\n",
    "                little_delta = 0\n",
    "            beta = beta - nt * big_delta\n",
    "            alpha = alpha - nt * little_delta\n",
    "    return beta, alpha\n",
    "\n",
    "beta, alpha = pegasos(X_train, y_train)\n",
    "Y_pred = (X_test @ beta + alpha).reshape(-1)"
   ]
  },
  {
   "cell_type": "code",
   "execution_count": null,
   "metadata": {},
   "outputs": [],
   "source": [
    "fig = ConfusionMatrixDisplay(confusion_matrix(Y_test == Y_test.max(), Y_pred > 0))\n",
    "fig.plot()\n",
    "plt.show()"
   ]
  },
  {
   "cell_type": "code",
   "execution_count": null,
   "metadata": {},
   "outputs": [],
   "source": [
    "acc = accuracy_score(Y_test == Y_test.max(), Y_pred.reshape(-1) > 0)\n",
    "print(f'Accuracy: {acc:.2f}')\n",
    "print(f'Test Error: {1 - acc:.2f}')"
   ]
  },
  {
   "cell_type": "code",
   "execution_count": null,
   "metadata": {},
   "outputs": [],
   "source": []
  }
 ],
 "metadata": {
  "kernelspec": {
   "display_name": "py311",
   "language": "python",
   "name": "python3"
  },
  "language_info": {
   "codemirror_mode": {
    "name": "ipython",
    "version": 3
   },
   "file_extension": ".py",
   "mimetype": "text/x-python",
   "name": "python",
   "nbconvert_exporter": "python",
   "pygments_lexer": "ipython3",
   "version": "3.11.6"
  }
 },
 "nbformat": 4,
 "nbformat_minor": 2
}
